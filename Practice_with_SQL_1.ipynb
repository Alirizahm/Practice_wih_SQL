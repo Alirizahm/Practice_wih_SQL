{
 "cells": [
  {
   "cell_type": "code",
   "execution_count": 1,
   "id": "32661f60",
   "metadata": {},
   "outputs": [],
   "source": [
    "import pandas as pd\n",
    "import pandasql\n",
    "\n",
    "from pandasql import sqldf \n",
    "sql_run = lambda q: sqldf(q, globals())"
   ]
  },
  {
   "cell_type": "markdown",
   "id": "c71fa92d",
   "metadata": {},
   "source": [
    "## Find the 3rd Highest Salary"
   ]
  },
  {
   "cell_type": "markdown",
   "id": "ebeb5a34",
   "metadata": {},
   "source": [
    "You will be given a table. \n",
    "\n",
    "The table has 2 columns: `employee`, and `salary`.\n",
    "\n",
    "Please output the 3rd Highest Salary! \n",
    "\n",
    "\n",
    "#### Example 1:\n",
    "| employee | salary |\n",
    "| --- | --- |\n",
    "| Abdul | 100 |\n",
    "| Budi| 200 |\n",
    "| Charlie | 100 |\n",
    "| Dimas | 500 |\n",
    "\n",
    "#### Answer 1: \n",
    "`100`\n",
    "\n",
    "Yup. Just output the 3rd highest salary. Please, do NOT give any Employee Name, do NOT give duplicate values. We know that 100 is the 3rd Highest Salary, and there are 2 Employees whose salary is 100. But we just care about the VALUE of the 3rd highest salary. Once again, no need to write duplicate values, no need to write the employee name"
   ]
  },
  {
   "cell_type": "code",
   "execution_count": 2,
   "id": "0f144508",
   "metadata": {},
   "outputs": [],
   "source": [
    "employee_table = pd.DataFrame({\n",
    "    'employee':['Alice', 'Benn', 'Charles', 'Dorothy', 'Emma', 'Franklin'],\n",
    "    'salary':[11,43,33,55,22,33]\n",
    "})"
   ]
  },
  {
   "cell_type": "code",
   "execution_count": 3,
   "id": "ace65aa5",
   "metadata": {},
   "outputs": [
    {
     "data": {
      "text/html": [
       "<div>\n",
       "<style scoped>\n",
       "    .dataframe tbody tr th:only-of-type {\n",
       "        vertical-align: middle;\n",
       "    }\n",
       "\n",
       "    .dataframe tbody tr th {\n",
       "        vertical-align: top;\n",
       "    }\n",
       "\n",
       "    .dataframe thead th {\n",
       "        text-align: right;\n",
       "    }\n",
       "</style>\n",
       "<table border=\"1\" class=\"dataframe\">\n",
       "  <thead>\n",
       "    <tr style=\"text-align: right;\">\n",
       "      <th></th>\n",
       "      <th>Salary</th>\n",
       "    </tr>\n",
       "  </thead>\n",
       "  <tbody>\n",
       "    <tr>\n",
       "      <th>0</th>\n",
       "      <td>33</td>\n",
       "    </tr>\n",
       "  </tbody>\n",
       "</table>\n",
       "</div>"
      ],
      "text/plain": [
       "   Salary\n",
       "0      33"
      ]
     },
     "execution_count": 3,
     "metadata": {},
     "output_type": "execute_result"
    }
   ],
   "source": [
    "query = \"\"\"\n",
    "SELECT DISTINCT Salary\n",
    "FROM\n",
    "(SELECT Salary,DENSE_RANK() OVER(ORDER BY Salary desc) Rank from employee_table)\n",
    "WHERE Rank=3\n",
    "\"\"\"\n",
    "sql_run(query)"
   ]
  },
  {
   "cell_type": "code",
   "execution_count": 4,
   "id": "12bc163c",
   "metadata": {},
   "outputs": [
    {
     "data": {
      "text/html": [
       "<div>\n",
       "<style scoped>\n",
       "    .dataframe tbody tr th:only-of-type {\n",
       "        vertical-align: middle;\n",
       "    }\n",
       "\n",
       "    .dataframe tbody tr th {\n",
       "        vertical-align: top;\n",
       "    }\n",
       "\n",
       "    .dataframe thead th {\n",
       "        text-align: right;\n",
       "    }\n",
       "</style>\n",
       "<table border=\"1\" class=\"dataframe\">\n",
       "  <thead>\n",
       "    <tr style=\"text-align: right;\">\n",
       "      <th></th>\n",
       "      <th>salary</th>\n",
       "    </tr>\n",
       "  </thead>\n",
       "  <tbody>\n",
       "    <tr>\n",
       "      <th>0</th>\n",
       "      <td>33</td>\n",
       "    </tr>\n",
       "  </tbody>\n",
       "</table>\n",
       "</div>"
      ],
      "text/plain": [
       "   salary\n",
       "0      33"
      ]
     },
     "execution_count": 4,
     "metadata": {},
     "output_type": "execute_result"
    }
   ],
   "source": [
    "query = \"\"\"\n",
    "SELECT salary \n",
    "FROM employee_table\n",
    "ORDER BY salary DESC\n",
    "LIMIT 1 OFFSET 2\n",
    "\"\"\"\n",
    "\n",
    "sql_run(query)"
   ]
  },
  {
   "cell_type": "markdown",
   "id": "7756b4a7",
   "metadata": {},
   "source": [
    "## Find Items Bought"
   ]
  },
  {
   "cell_type": "markdown",
   "id": "d80df5c2",
   "metadata": {},
   "source": [
    "Given table with 2 columns: `buyer` and `item`.\n",
    "- Buyer contains the name of buyer\n",
    "- Item contains the name of item bought\n",
    "\n",
    "Return the name of items that is neither bought the most, nor bought the least.\n",
    "\n",
    "For example:\n",
    "\n",
    "#### Example 1:\n",
    "\n",
    "| buyer | item |\n",
    "| --- | --- |\n",
    "| Abdul | iPhone |\n",
    "| Budi| Samsung |\n",
    "| Charlie | Realme |\n",
    "| Dimas | Realme |\n",
    "| Erik | Samsung |\n",
    "| Fikri | Realme |\n",
    "\n",
    "Explanation:\n",
    "- iPhone is bought 1 times.\n",
    "- Samsung is bought 2 times.\n",
    "- Realme is bought 3 times.\n",
    "\n",
    "What is the item that is bought the most? Realme\n",
    "What is the item that is bought the least? iPhone\n",
    "\n",
    "So, what is the item that is NOT bought the most, and NOT bought the last? Samsung.\n",
    "\n",
    "Your answer will be:\n",
    "\n",
    "| item |\n",
    "| --- |\n",
    "| Samsung |"
   ]
  },
  {
   "cell_type": "code",
   "execution_count": 5,
   "id": "441777e7",
   "metadata": {},
   "outputs": [],
   "source": [
    "item_bought = pd.DataFrame({\n",
    "    'buyer':['A', 'B', 'C', 'D', 'E', 'F'],\n",
    "    'item':['Asus', 'Lenovo', 'Lenovo', 'Acer', 'Acer', 'Acer']\n",
    "})"
   ]
  },
  {
   "cell_type": "code",
   "execution_count": 7,
   "id": "5bfe7829",
   "metadata": {},
   "outputs": [
    {
     "data": {
      "text/html": [
       "<div>\n",
       "<style scoped>\n",
       "    .dataframe tbody tr th:only-of-type {\n",
       "        vertical-align: middle;\n",
       "    }\n",
       "\n",
       "    .dataframe tbody tr th {\n",
       "        vertical-align: top;\n",
       "    }\n",
       "\n",
       "    .dataframe thead th {\n",
       "        text-align: right;\n",
       "    }\n",
       "</style>\n",
       "<table border=\"1\" class=\"dataframe\">\n",
       "  <thead>\n",
       "    <tr style=\"text-align: right;\">\n",
       "      <th></th>\n",
       "      <th>item</th>\n",
       "    </tr>\n",
       "  </thead>\n",
       "  <tbody>\n",
       "    <tr>\n",
       "      <th>0</th>\n",
       "      <td>Lenovo</td>\n",
       "    </tr>\n",
       "  </tbody>\n",
       "</table>\n",
       "</div>"
      ],
      "text/plain": [
       "     item\n",
       "0  Lenovo"
      ]
     },
     "execution_count": 7,
     "metadata": {},
     "output_type": "execute_result"
    }
   ],
   "source": [
    "query = \"\"\"\n",
    "SELECT item\n",
    "FROM item_bought\n",
    "GROUP BY item\n",
    "HAVING COUNT(*) != (SELECT COUNT(*) FROM item_bought GROUP BY item ORDER BY COUNT(*) DESC LIMIT 1) \n",
    "AND COUNT(*) != (SELECT COUNT(*) FROM item_bought GROUP BY item ORDER BY COUNT(*) ASC LIMIT 1)\n",
    "\"\"\"\n",
    "\n",
    "sql_run(query)"
   ]
  },
  {
   "cell_type": "code",
   "execution_count": 8,
   "id": "4c160bab",
   "metadata": {},
   "outputs": [
    {
     "data": {
      "text/html": [
       "<div>\n",
       "<style scoped>\n",
       "    .dataframe tbody tr th:only-of-type {\n",
       "        vertical-align: middle;\n",
       "    }\n",
       "\n",
       "    .dataframe tbody tr th {\n",
       "        vertical-align: top;\n",
       "    }\n",
       "\n",
       "    .dataframe thead th {\n",
       "        text-align: right;\n",
       "    }\n",
       "</style>\n",
       "<table border=\"1\" class=\"dataframe\">\n",
       "  <thead>\n",
       "    <tr style=\"text-align: right;\">\n",
       "      <th></th>\n",
       "      <th>item</th>\n",
       "    </tr>\n",
       "  </thead>\n",
       "  <tbody>\n",
       "    <tr>\n",
       "      <th>0</th>\n",
       "      <td>Lenovo</td>\n",
       "    </tr>\n",
       "  </tbody>\n",
       "</table>\n",
       "</div>"
      ],
      "text/plain": [
       "     item\n",
       "0  Lenovo"
      ]
     },
     "execution_count": 8,
     "metadata": {},
     "output_type": "execute_result"
    }
   ],
   "source": [
    "query = \"\"\"\n",
    "SELECT item\n",
    "FROM item_bought\n",
    "GROUP BY item\n",
    "HAVING COUNT(*) = 2\n",
    "\"\"\"\n",
    "sql_run(query)"
   ]
  }
 ],
 "metadata": {
  "kernelspec": {
   "display_name": "Python 3",
   "language": "python",
   "name": "python3"
  },
  "language_info": {
   "codemirror_mode": {
    "name": "ipython",
    "version": 3
   },
   "file_extension": ".py",
   "mimetype": "text/x-python",
   "name": "python",
   "nbconvert_exporter": "python",
   "pygments_lexer": "ipython3",
   "version": "3.8.8"
  }
 },
 "nbformat": 4,
 "nbformat_minor": 5
}
